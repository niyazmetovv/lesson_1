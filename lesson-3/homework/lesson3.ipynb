{
 "cells": [
  {
   "metadata": {},
   "cell_type": "markdown",
   "source": "### LIST",
   "id": "17a9e861c8a0e5a7"
  },
  {
   "cell_type": "code",
   "id": "initial_id",
   "metadata": {
    "collapsed": true,
    "tags": [],
    "ExecuteTime": {
     "end_time": "2025-02-12T18:05:28.168831Z",
     "start_time": "2025-02-12T18:05:28.137564Z"
    }
   },
   "source": [
    "#1\n",
    "a = [1, 2, 2, 3, 4, 2]\n",
    "given_number = 2\n",
    "print(a.count(given_number))"
   ],
   "outputs": [
    {
     "name": "stdout",
     "output_type": "stream",
     "text": [
      "3\n"
     ]
    }
   ],
   "execution_count": 1647
  },
  {
   "metadata": {
    "ExecuteTime": {
     "end_time": "2025-02-12T18:05:28.222327Z",
     "start_time": "2025-02-12T18:05:28.206685Z"
    }
   },
   "cell_type": "code",
   "source": [
    "#2\n",
    "print(sum(a))"
   ],
   "id": "170b1c4d54c6cc03",
   "outputs": [
    {
     "name": "stdout",
     "output_type": "stream",
     "text": [
      "14\n"
     ]
    }
   ],
   "execution_count": 1648
  },
  {
   "metadata": {
    "ExecuteTime": {
     "end_time": "2025-02-12T18:05:28.285600Z",
     "start_time": "2025-02-12T18:05:28.263615Z"
    }
   },
   "cell_type": "code",
   "source": [
    "#3\n",
    "print(max(a))"
   ],
   "id": "7959f0fec3025a97",
   "outputs": [
    {
     "name": "stdout",
     "output_type": "stream",
     "text": [
      "4\n"
     ]
    }
   ],
   "execution_count": 1649
  },
  {
   "metadata": {
    "ExecuteTime": {
     "end_time": "2025-02-12T18:05:28.321815Z",
     "start_time": "2025-02-12T18:05:28.305686Z"
    }
   },
   "cell_type": "code",
   "source": [
    "#4\n",
    "print(min(a))"
   ],
   "id": "a644275d0646acd0",
   "outputs": [
    {
     "name": "stdout",
     "output_type": "stream",
     "text": [
      "1\n"
     ]
    }
   ],
   "execution_count": 1650
  },
  {
   "metadata": {
    "ExecuteTime": {
     "end_time": "2025-02-12T18:05:28.373913Z",
     "start_time": "2025-02-12T18:05:28.358288Z"
    }
   },
   "cell_type": "code",
   "source": [
    "#5\n",
    "print(7 in a)\n",
    "print(2 in a)"
   ],
   "id": "380804dc2a0ccd4",
   "outputs": [
    {
     "name": "stdout",
     "output_type": "stream",
     "text": [
      "False\n",
      "True\n"
     ]
    }
   ],
   "execution_count": 1651
  },
  {
   "metadata": {
    "ExecuteTime": {
     "end_time": "2025-02-12T18:05:28.451794Z",
     "start_time": "2025-02-12T18:05:28.429455Z"
    }
   },
   "cell_type": "code",
   "source": [
    "#6\n",
    "if a:\n",
    "    print(a[0])\n",
    "else:\n",
    "    print('empty')"
   ],
   "id": "601e27590b704652",
   "outputs": [
    {
     "name": "stdout",
     "output_type": "stream",
     "text": [
      "1\n"
     ]
    }
   ],
   "execution_count": 1652
  },
  {
   "metadata": {
    "ExecuteTime": {
     "end_time": "2025-02-12T18:05:28.490864Z",
     "start_time": "2025-02-12T18:05:28.483230Z"
    }
   },
   "cell_type": "code",
   "source": [
    "#7\n",
    "if a:\n",
    "    print(a[-1])\n",
    "else:\n",
    "    print('empty')"
   ],
   "id": "dc5eec34727f28f2",
   "outputs": [
    {
     "name": "stdout",
     "output_type": "stream",
     "text": [
      "2\n"
     ]
    }
   ],
   "execution_count": 1653
  },
  {
   "metadata": {
    "ExecuteTime": {
     "end_time": "2025-02-12T18:05:28.601720Z",
     "start_time": "2025-02-12T18:05:28.578721Z"
    }
   },
   "cell_type": "code",
   "source": [
    "#8\n",
    "sliced_list = a[:3]\n",
    "print(sliced_list)"
   ],
   "id": "7c42a3a6de911952",
   "outputs": [
    {
     "name": "stdout",
     "output_type": "stream",
     "text": [
      "[1, 2, 2]\n"
     ]
    }
   ],
   "execution_count": 1654
  },
  {
   "metadata": {
    "ExecuteTime": {
     "end_time": "2025-02-12T18:05:28.650812Z",
     "start_time": "2025-02-12T18:05:28.621954Z"
    }
   },
   "cell_type": "code",
   "source": [
    "#9\n",
    "reversed_list = a[::-1]\n",
    "print(reversed_list)"
   ],
   "id": "db70b39751ab26a0",
   "outputs": [
    {
     "name": "stdout",
     "output_type": "stream",
     "text": [
      "[2, 4, 3, 2, 2, 1]\n"
     ]
    }
   ],
   "execution_count": 1655
  },
  {
   "metadata": {
    "ExecuteTime": {
     "end_time": "2025-02-12T18:05:28.726834Z",
     "start_time": "2025-02-12T18:05:28.692051Z"
    }
   },
   "cell_type": "code",
   "source": [
    "#10\n",
    "sorted_list = sorted(a)\n",
    "print(sorted_list)"
   ],
   "id": "d5a5eaa246910f25",
   "outputs": [
    {
     "name": "stdout",
     "output_type": "stream",
     "text": [
      "[1, 2, 2, 2, 3, 4]\n"
     ]
    }
   ],
   "execution_count": 1656
  },
  {
   "metadata": {
    "ExecuteTime": {
     "end_time": "2025-02-12T18:05:28.771552Z",
     "start_time": "2025-02-12T18:05:28.763671Z"
    }
   },
   "cell_type": "code",
   "source": [
    "#11\n",
    "unique_list = list(set(a))\n",
    "print(unique_list)"
   ],
   "id": "e32ea613c691a92b",
   "outputs": [
    {
     "name": "stdout",
     "output_type": "stream",
     "text": [
      "[1, 2, 3, 4]\n"
     ]
    }
   ],
   "execution_count": 1657
  },
  {
   "metadata": {
    "ExecuteTime": {
     "end_time": "2025-02-12T18:05:28.840230Z",
     "start_time": "2025-02-12T18:05:28.811475Z"
    }
   },
   "cell_type": "code",
   "source": [
    "#12\n",
    "a.insert(3, given_number)\n",
    "print(a)"
   ],
   "id": "f8972731d512785e",
   "outputs": [
    {
     "name": "stdout",
     "output_type": "stream",
     "text": [
      "[1, 2, 2, 2, 3, 4, 2]\n"
     ]
    }
   ],
   "execution_count": 1658
  },
  {
   "metadata": {
    "ExecuteTime": {
     "end_time": "2025-02-12T18:05:28.924400Z",
     "start_time": "2025-02-12T18:05:28.902729Z"
    }
   },
   "cell_type": "code",
   "source": [
    "#13\n",
    "print(a.index(given_number))"
   ],
   "id": "b244a4ecdc5cc53",
   "outputs": [
    {
     "name": "stdout",
     "output_type": "stream",
     "text": [
      "1\n"
     ]
    }
   ],
   "execution_count": 1659
  },
  {
   "metadata": {
    "ExecuteTime": {
     "end_time": "2025-02-12T18:05:28.987593Z",
     "start_time": "2025-02-12T18:05:28.971849Z"
    }
   },
   "cell_type": "code",
   "source": [
    "#14\n",
    "is_empty = True\n",
    "if a:\n",
    "    is_empty = False\n",
    "print(is_empty)"
   ],
   "id": "4b181963137d09aa",
   "outputs": [
    {
     "name": "stdout",
     "output_type": "stream",
     "text": [
      "False\n"
     ]
    }
   ],
   "execution_count": 1660
  },
  {
   "metadata": {
    "ExecuteTime": {
     "end_time": "2025-02-12T18:05:29.050093Z",
     "start_time": "2025-02-12T18:05:29.018789Z"
    }
   },
   "cell_type": "code",
   "source": [
    "#15\n",
    "count_even = 0\n",
    "for number in a:\n",
    "    if number % 2 == 0:\n",
    "        count_even += 1\n",
    "\n",
    "print(count_even)"
   ],
   "id": "aec84c5b380c65b",
   "outputs": [
    {
     "name": "stdout",
     "output_type": "stream",
     "text": [
      "5\n"
     ]
    }
   ],
   "execution_count": 1661
  },
  {
   "metadata": {
    "ExecuteTime": {
     "end_time": "2025-02-12T18:05:29.112498Z",
     "start_time": "2025-02-12T18:05:29.081249Z"
    }
   },
   "cell_type": "code",
   "source": [
    "#16\n",
    "\n",
    "count_odd = 0\n",
    "for number in a:\n",
    "    if number % 2 == 1:\n",
    "        count_odd += 1\n",
    "print(count_odd)"
   ],
   "id": "c177bb1fd70e06cf",
   "outputs": [
    {
     "name": "stdout",
     "output_type": "stream",
     "text": [
      "2\n"
     ]
    }
   ],
   "execution_count": 1662
  },
  {
   "metadata": {
    "ExecuteTime": {
     "end_time": "2025-02-12T18:05:29.181773Z",
     "start_time": "2025-02-12T18:05:29.159372Z"
    }
   },
   "cell_type": "code",
   "source": [
    "#17\n",
    "second_list = [1, 2, 3, 4]\n",
    "combined_list = a + second_list\n",
    "print(combined_list)"
   ],
   "id": "b2fb03fcca7b8a34",
   "outputs": [
    {
     "name": "stdout",
     "output_type": "stream",
     "text": [
      "[1, 2, 2, 2, 3, 4, 2, 1, 2, 3, 4]\n"
     ]
    }
   ],
   "execution_count": 1663
  },
  {
   "metadata": {
    "ExecuteTime": {
     "end_time": "2025-02-12T18:05:29.231565Z",
     "start_time": "2025-02-12T18:05:29.203600Z"
    }
   },
   "cell_type": "code",
   "source": [
    "#18\n",
    "sub_list = [1, 7]\n",
    "is_exist = True\n",
    "for number in sub_list:\n",
    "    found = False\n",
    "    for number_a in a:\n",
    "        if number == number_a:\n",
    "            found = True\n",
    "            break\n",
    "    if not found:\n",
    "        is_exist = False\n",
    "        break\n",
    "print(is_exist)\n"
   ],
   "id": "2efa275cf55a9b7e",
   "outputs": [
    {
     "name": "stdout",
     "output_type": "stream",
     "text": [
      "False\n"
     ]
    }
   ],
   "execution_count": 1664
  },
  {
   "metadata": {
    "ExecuteTime": {
     "end_time": "2025-02-12T18:05:29.298880Z",
     "start_time": "2025-02-12T18:05:29.278822Z"
    }
   },
   "cell_type": "code",
   "source": [
    "#19\n",
    "specified_element = 1\n",
    "another_element = 7\n",
    "if specified_element in a:\n",
    " a[a.index(specified_element)] = another_element\n",
    "print(a)"
   ],
   "id": "648c817b5dda9ff7",
   "outputs": [
    {
     "name": "stdout",
     "output_type": "stream",
     "text": [
      "[7, 2, 2, 2, 3, 4, 2]\n"
     ]
    }
   ],
   "execution_count": 1665
  },
  {
   "metadata": {
    "ExecuteTime": {
     "end_time": "2025-02-12T18:05:29.344531Z",
     "start_time": "2025-02-12T18:05:29.336802Z"
    }
   },
   "cell_type": "code",
   "source": "print(unique_list)",
   "id": "e94db2d8d76b927c",
   "outputs": [
    {
     "name": "stdout",
     "output_type": "stream",
     "text": [
      "[1, 2, 3, 4]\n"
     ]
    }
   ],
   "execution_count": 1666
  },
  {
   "metadata": {
    "ExecuteTime": {
     "end_time": "2025-02-12T18:05:29.392332Z",
     "start_time": "2025-02-12T18:05:29.382541Z"
    }
   },
   "cell_type": "code",
   "source": [
    "#20\n",
    "print(sorted(unique_list, reverse = True)[1])"
   ],
   "id": "5f9c08f055005aa4",
   "outputs": [
    {
     "name": "stdout",
     "output_type": "stream",
     "text": [
      "3\n"
     ]
    }
   ],
   "execution_count": 1667
  },
  {
   "metadata": {
    "ExecuteTime": {
     "end_time": "2025-02-12T18:05:29.443768Z",
     "start_time": "2025-02-12T18:05:29.422899Z"
    }
   },
   "cell_type": "code",
   "source": [
    "#21\n",
    "print(sorted(unique_list, reverse = True)[-2])"
   ],
   "id": "eb796ed9b499f252",
   "outputs": [
    {
     "name": "stdout",
     "output_type": "stream",
     "text": [
      "2\n"
     ]
    }
   ],
   "execution_count": 1668
  },
  {
   "metadata": {
    "ExecuteTime": {
     "end_time": "2025-02-12T18:05:29.489968Z",
     "start_time": "2025-02-12T18:05:29.469641Z"
    }
   },
   "cell_type": "code",
   "source": [
    "#22\n",
    "even_list = []\n",
    "for number in a:\n",
    "    if number % 2 == 0:\n",
    "        even_list.append(number)\n",
    "print(even_list)"
   ],
   "id": "702a947180bb96e1",
   "outputs": [
    {
     "name": "stdout",
     "output_type": "stream",
     "text": [
      "[2, 2, 2, 4, 2]\n"
     ]
    }
   ],
   "execution_count": 1669
  },
  {
   "metadata": {
    "ExecuteTime": {
     "end_time": "2025-02-12T18:05:29.536868Z",
     "start_time": "2025-02-12T18:05:29.505591Z"
    }
   },
   "cell_type": "code",
   "source": [
    "#23\n",
    "odd_list = []\n",
    "for number in a:\n",
    "    if number % 2 == 1:\n",
    "        odd_list.append(number)\n",
    "print(odd_list)"
   ],
   "id": "61d39054710c3423",
   "outputs": [
    {
     "name": "stdout",
     "output_type": "stream",
     "text": [
      "[7, 3]\n"
     ]
    }
   ],
   "execution_count": 1670
  },
  {
   "metadata": {
    "ExecuteTime": {
     "end_time": "2025-02-12T18:05:29.615305Z",
     "start_time": "2025-02-12T18:05:29.584060Z"
    }
   },
   "cell_type": "code",
   "source": [
    "#24\n",
    "print(len(a))"
   ],
   "id": "4d430f8d4fd0f6bd",
   "outputs": [
    {
     "name": "stdout",
     "output_type": "stream",
     "text": [
      "7\n"
     ]
    }
   ],
   "execution_count": 1671
  },
  {
   "metadata": {
    "ExecuteTime": {
     "end_time": "2025-02-12T18:05:29.677916Z",
     "start_time": "2025-02-12T18:05:29.662209Z"
    }
   },
   "cell_type": "code",
   "source": [
    "#25\n",
    "copy_list = a.copy()\n",
    "print(copy_list)"
   ],
   "id": "6c7808bb18cd0a7",
   "outputs": [
    {
     "name": "stdout",
     "output_type": "stream",
     "text": [
      "[7, 2, 2, 2, 3, 4, 2]\n"
     ]
    }
   ],
   "execution_count": 1672
  },
  {
   "metadata": {
    "ExecuteTime": {
     "end_time": "2025-02-12T18:05:29.765637Z",
     "start_time": "2025-02-12T18:05:29.733314Z"
    }
   },
   "cell_type": "code",
   "source": [
    "#26\n",
    "middle_element = []\n",
    "if len(a) % 2 == 1:\n",
    "    middle_element.append(a[len(a)//2])\n",
    "else:\n",
    "    middle_element.append(a[len(a)//2])\n",
    "    middle_element.append(a[len(a)//2 - 1])\n",
    "print(middle_element)\n"
   ],
   "id": "fd5abc184f1eede7",
   "outputs": [
    {
     "name": "stdout",
     "output_type": "stream",
     "text": [
      "[2]\n"
     ]
    }
   ],
   "execution_count": 1673
  },
  {
   "metadata": {
    "ExecuteTime": {
     "end_time": "2025-02-12T18:05:29.855996Z",
     "start_time": "2025-02-12T18:05:29.840353Z"
    }
   },
   "cell_type": "code",
   "source": [
    "#27\n",
    "starting = 1\n",
    "ending = 3\n",
    "sub_list = a[starting:ending]\n",
    "print(max(sub_list))"
   ],
   "id": "622469f9dece7925",
   "outputs": [
    {
     "name": "stdout",
     "output_type": "stream",
     "text": [
      "2\n"
     ]
    }
   ],
   "execution_count": 1674
  },
  {
   "metadata": {
    "ExecuteTime": {
     "end_time": "2025-02-12T18:05:29.934435Z",
     "start_time": "2025-02-12T18:05:29.903170Z"
    }
   },
   "cell_type": "code",
   "source": [
    "#28\n",
    "starting = 2\n",
    "ending = 4\n",
    "sub_list = a[starting:ending]\n",
    "print(min(sub_list))"
   ],
   "id": "4ba6cc1b9a25ed65",
   "outputs": [
    {
     "name": "stdout",
     "output_type": "stream",
     "text": [
      "2\n"
     ]
    }
   ],
   "execution_count": 1675
  },
  {
   "metadata": {
    "ExecuteTime": {
     "end_time": "2025-02-12T18:05:29.990214Z",
     "start_time": "2025-02-12T18:05:29.958952Z"
    }
   },
   "cell_type": "code",
   "source": [
    "#29\n",
    "index = 2\n",
    "a.pop(index)\n",
    "print(a)"
   ],
   "id": "8a1e0c2838efe330",
   "outputs": [
    {
     "name": "stdout",
     "output_type": "stream",
     "text": [
      "[7, 2, 2, 3, 4, 2]\n"
     ]
    }
   ],
   "execution_count": 1676
  },
  {
   "metadata": {
    "ExecuteTime": {
     "end_time": "2025-02-12T18:05:30.037075Z",
     "start_time": "2025-02-12T18:05:30.021460Z"
    }
   },
   "cell_type": "code",
   "source": [
    "#30\n",
    "print(a == sorted(a))"
   ],
   "id": "8dae0b3688166b88",
   "outputs": [
    {
     "name": "stdout",
     "output_type": "stream",
     "text": [
      "False\n"
     ]
    }
   ],
   "execution_count": 1677
  },
  {
   "metadata": {
    "ExecuteTime": {
     "end_time": "2025-02-12T18:05:30.099860Z",
     "start_time": "2025-02-12T18:05:30.084236Z"
    }
   },
   "cell_type": "code",
   "source": [
    "#31\n",
    "n = 2\n",
    "repeated_list = []\n",
    "\n",
    "for number in a:\n",
    "    repeated_list.extend([number] * n)\n",
    "print(repeated_list)"
   ],
   "id": "224f32755d3e6c23",
   "outputs": [
    {
     "name": "stdout",
     "output_type": "stream",
     "text": [
      "[7, 7, 2, 2, 2, 2, 3, 3, 4, 4, 2, 2]\n"
     ]
    }
   ],
   "execution_count": 1678
  },
  {
   "metadata": {
    "ExecuteTime": {
     "end_time": "2025-02-12T18:05:30.138679Z",
     "start_time": "2025-02-12T18:05:30.123060Z"
    }
   },
   "cell_type": "code",
   "source": [
    "#32\n",
    "merged_list = a + second_list\n",
    "print(sorted(merged_list))"
   ],
   "id": "327909a0038c09a1",
   "outputs": [
    {
     "name": "stdout",
     "output_type": "stream",
     "text": [
      "[1, 2, 2, 2, 2, 3, 3, 4, 4, 7]\n"
     ]
    }
   ],
   "execution_count": 1679
  },
  {
   "metadata": {
    "ExecuteTime": {
     "end_time": "2025-02-12T18:05:30.205038Z",
     "start_time": "2025-02-12T18:05:30.186592Z"
    }
   },
   "cell_type": "code",
   "source": [
    "#33\n",
    "element = 2\n",
    "indices = []\n",
    "for i in range(len(a)):\n",
    "    if a[i] == element:\n",
    "        indices.append(i)\n",
    "print(indices)"
   ],
   "id": "f78be06371db6390",
   "outputs": [
    {
     "name": "stdout",
     "output_type": "stream",
     "text": [
      "[1, 2, 5]\n"
     ]
    }
   ],
   "execution_count": 1680
  },
  {
   "metadata": {
    "ExecuteTime": {
     "end_time": "2025-02-12T18:05:30.294581Z",
     "start_time": "2025-02-12T18:05:30.267430Z"
    }
   },
   "cell_type": "code",
   "source": [
    "#34\n",
    "rotate_for = 2\n",
    "rotate_for = rotate_for % len(a)\n",
    "for i in range(rotate_for):\n",
    "    last_element = a.pop()\n",
    "    a.insert(0, last_element)\n",
    "print(a)"
   ],
   "id": "d2c1942a38651459",
   "outputs": [
    {
     "name": "stdout",
     "output_type": "stream",
     "text": [
      "[4, 2, 7, 2, 2, 3]\n"
     ]
    }
   ],
   "execution_count": 1681
  },
  {
   "metadata": {
    "ExecuteTime": {
     "end_time": "2025-02-12T18:05:30.465604Z",
     "start_time": "2025-02-12T18:05:30.449622Z"
    }
   },
   "cell_type": "code",
   "source": [
    "#35\n",
    "starting = 1\n",
    "ending = 10\n",
    "\n",
    "ranged_list = list(range(starting, ending))\n",
    "print(ranged_list)"
   ],
   "id": "11920ebd0a320a39",
   "outputs": [
    {
     "name": "stdout",
     "output_type": "stream",
     "text": [
      "[1, 2, 3, 4, 5, 6, 7, 8, 9]\n"
     ]
    }
   ],
   "execution_count": 1682
  },
  {
   "metadata": {
    "ExecuteTime": {
     "end_time": "2025-02-12T18:05:30.591433Z",
     "start_time": "2025-02-12T18:05:30.555444Z"
    }
   },
   "cell_type": "code",
   "source": [
    "#36\n",
    "positive_sum = 0\n",
    "for number in a:\n",
    "    if number > positive_sum:\n",
    "        positive_sum += number\n",
    "print(positive_sum)"
   ],
   "id": "76cc7c429868ef5c",
   "outputs": [
    {
     "name": "stdout",
     "output_type": "stream",
     "text": [
      "11\n"
     ]
    }
   ],
   "execution_count": 1683
  },
  {
   "metadata": {
    "ExecuteTime": {
     "end_time": "2025-02-12T18:05:30.702071Z",
     "start_time": "2025-02-12T18:05:30.669873Z"
    }
   },
   "cell_type": "code",
   "source": [
    "#37\n",
    "negative_sum = 0\n",
    "for number in a:\n",
    "    if number < negative_sum:\n",
    "        negative_sum += number\n",
    "print(negative_sum)"
   ],
   "id": "4dc9e0c43f5b5de3",
   "outputs": [
    {
     "name": "stdout",
     "output_type": "stream",
     "text": [
      "0\n"
     ]
    }
   ],
   "execution_count": 1684
  },
  {
   "metadata": {
    "ExecuteTime": {
     "end_time": "2025-02-12T18:05:30.730831Z",
     "start_time": "2025-02-12T18:05:30.722577Z"
    }
   },
   "cell_type": "code",
   "source": [
    "#38\n",
    "print(a == a[::-1])"
   ],
   "id": "b3f22cfc254d8590",
   "outputs": [
    {
     "name": "stdout",
     "output_type": "stream",
     "text": [
      "False\n"
     ]
    }
   ],
   "execution_count": 1685
  },
  {
   "metadata": {
    "ExecuteTime": {
     "end_time": "2025-02-12T18:05:30.797Z",
     "start_time": "2025-02-12T18:05:30.776089Z"
    }
   },
   "cell_type": "code",
   "source": [
    "#39\n",
    "number = 4\n",
    "nested_list = []\n",
    "first_slice = a[:number]\n",
    "second_slice = a[number:]\n",
    "nested_list.append(first_slice)\n",
    "nested_list.append(second_slice)\n",
    "print(nested_list)"
   ],
   "id": "cb964bf89a0e253",
   "outputs": [
    {
     "name": "stdout",
     "output_type": "stream",
     "text": [
      "[[4, 2, 7, 2], [2, 3]]\n"
     ]
    }
   ],
   "execution_count": 1686
  },
  {
   "metadata": {
    "ExecuteTime": {
     "end_time": "2025-02-12T18:05:30.882186Z",
     "start_time": "2025-02-12T18:05:30.866344Z"
    }
   },
   "cell_type": "code",
   "source": [
    "#40\n",
    "unique_list = []\n",
    "for number in a:\n",
    "    if number not in unique_list:\n",
    "        unique_list.append(number)\n",
    "print(unique_list)"
   ],
   "id": "6c5a9b0f7f123973",
   "outputs": [
    {
     "name": "stdout",
     "output_type": "stream",
     "text": [
      "[4, 2, 7, 3]\n"
     ]
    }
   ],
   "execution_count": 1687
  },
  {
   "metadata": {},
   "cell_type": "markdown",
   "source": "### TUPLE",
   "id": "7b5f95e793bfc569"
  },
  {
   "metadata": {
    "ExecuteTime": {
     "end_time": "2025-02-12T18:05:30.998753Z",
     "start_time": "2025-02-12T18:05:30.966179Z"
    }
   },
   "cell_type": "code",
   "source": [
    "#1\n",
    "t = (1, 2, 2, 3, 4, 5)\n",
    "print(t.count(2))"
   ],
   "id": "720f7c57ed248662",
   "outputs": [
    {
     "name": "stdout",
     "output_type": "stream",
     "text": [
      "2\n"
     ]
    }
   ],
   "execution_count": 1688
  },
  {
   "metadata": {
    "ExecuteTime": {
     "end_time": "2025-02-12T18:05:31.190227Z",
     "start_time": "2025-02-12T18:05:31.159113Z"
    }
   },
   "cell_type": "code",
   "source": [
    "#2\n",
    "if t:\n",
    "    print(max(t))\n",
    "else:\n",
    "    print(None)"
   ],
   "id": "13136c54a400f6f2",
   "outputs": [
    {
     "name": "stdout",
     "output_type": "stream",
     "text": [
      "5\n"
     ]
    }
   ],
   "execution_count": 1689
  },
  {
   "metadata": {
    "ExecuteTime": {
     "end_time": "2025-02-12T18:05:31.353707Z",
     "start_time": "2025-02-12T18:05:31.315546Z"
    }
   },
   "cell_type": "code",
   "source": [
    "#3\n",
    "if t:\n",
    "    print(min(t))\n",
    "else:\n",
    "    print(None)"
   ],
   "id": "5f98be3b9bc8e0a6",
   "outputs": [
    {
     "name": "stdout",
     "output_type": "stream",
     "text": [
      "1\n"
     ]
    }
   ],
   "execution_count": 1690
  },
  {
   "metadata": {
    "ExecuteTime": {
     "end_time": "2025-02-12T18:05:31.464103Z",
     "start_time": "2025-02-12T18:05:31.426910Z"
    }
   },
   "cell_type": "code",
   "source": [
    "#4\n",
    "element = 4\n",
    "print(element in t)"
   ],
   "id": "43013f3894ca351",
   "outputs": [
    {
     "name": "stdout",
     "output_type": "stream",
     "text": [
      "True\n"
     ]
    }
   ],
   "execution_count": 1691
  },
  {
   "metadata": {
    "ExecuteTime": {
     "end_time": "2025-02-12T18:05:31.535397Z",
     "start_time": "2025-02-12T18:05:31.511031Z"
    }
   },
   "cell_type": "code",
   "source": [
    "#5\n",
    "if t:\n",
    "    print(t[0])\n",
    "else:\n",
    "    print(None)"
   ],
   "id": "8fa6dad85a5f60c1",
   "outputs": [
    {
     "name": "stdout",
     "output_type": "stream",
     "text": [
      "1\n"
     ]
    }
   ],
   "execution_count": 1692
  },
  {
   "metadata": {
    "ExecuteTime": {
     "end_time": "2025-02-12T18:05:31.588921Z",
     "start_time": "2025-02-12T18:05:31.569473Z"
    }
   },
   "cell_type": "code",
   "source": [
    "#6\n",
    "if t:\n",
    "    print(t[-1])\n",
    "else:\n",
    "    print(None)"
   ],
   "id": "47fe5a16779493de",
   "outputs": [
    {
     "name": "stdout",
     "output_type": "stream",
     "text": [
      "5\n"
     ]
    }
   ],
   "execution_count": 1693
  },
  {
   "metadata": {
    "ExecuteTime": {
     "end_time": "2025-02-12T18:05:31.635808Z",
     "start_time": "2025-02-12T18:05:31.620188Z"
    }
   },
   "cell_type": "code",
   "source": [
    "#7\n",
    "print(len(t))"
   ],
   "id": "b841e6addad79d57",
   "outputs": [
    {
     "name": "stdout",
     "output_type": "stream",
     "text": [
      "6\n"
     ]
    }
   ],
   "execution_count": 1694
  },
  {
   "metadata": {
    "ExecuteTime": {
     "end_time": "2025-02-12T18:05:31.693741Z",
     "start_time": "2025-02-12T18:05:31.663869Z"
    }
   },
   "cell_type": "code",
   "source": [
    "#8\n",
    "new_tuple = t[0:3]\n",
    "print(new_tuple)"
   ],
   "id": "8b0479bf78583b61",
   "outputs": [
    {
     "name": "stdout",
     "output_type": "stream",
     "text": [
      "(1, 2, 2)\n"
     ]
    }
   ],
   "execution_count": 1695
  },
  {
   "metadata": {
    "ExecuteTime": {
     "end_time": "2025-02-12T18:05:31.754001Z",
     "start_time": "2025-02-12T18:05:31.731014Z"
    }
   },
   "cell_type": "code",
   "source": [
    "#9\n",
    "combined_tuple = t + new_tuple\n",
    "print(combined_tuple)"
   ],
   "id": "8bd4087650c86c04",
   "outputs": [
    {
     "name": "stdout",
     "output_type": "stream",
     "text": [
      "(1, 2, 2, 3, 4, 5, 1, 2, 2)\n"
     ]
    }
   ],
   "execution_count": 1696
  },
  {
   "metadata": {
    "ExecuteTime": {
     "end_time": "2025-02-12T18:05:31.814832Z",
     "start_time": "2025-02-12T18:05:31.793627Z"
    }
   },
   "cell_type": "code",
   "source": [
    "#10\n",
    "print(bool (t))"
   ],
   "id": "36135920fb35f258",
   "outputs": [
    {
     "name": "stdout",
     "output_type": "stream",
     "text": [
      "True\n"
     ]
    }
   ],
   "execution_count": 1697
  },
  {
   "metadata": {
    "ExecuteTime": {
     "end_time": "2025-02-12T18:05:31.882160Z",
     "start_time": "2025-02-12T18:05:31.853063Z"
    }
   },
   "cell_type": "code",
   "source": [
    "#11\n",
    "indexes = []\n",
    "given_element = 2\n",
    "for i in range(len(t)):\n",
    "    if t[i] == given_element:\n",
    "     indexes.append(i)\n",
    "print(indexes)\n"
   ],
   "id": "93e340be062f88e8",
   "outputs": [
    {
     "name": "stdout",
     "output_type": "stream",
     "text": [
      "[1, 2]\n"
     ]
    }
   ],
   "execution_count": 1698
  },
  {
   "metadata": {
    "ExecuteTime": {
     "end_time": "2025-02-12T18:05:31.952172Z",
     "start_time": "2025-02-12T18:05:31.928702Z"
    }
   },
   "cell_type": "code",
   "source": [
    "#12\n",
    "second_largest = 0\n",
    "print(sorted(list(set(t)))[-2])"
   ],
   "id": "6f741db5abfd565c",
   "outputs": [
    {
     "name": "stdout",
     "output_type": "stream",
     "text": [
      "4\n"
     ]
    }
   ],
   "execution_count": 1699
  },
  {
   "metadata": {
    "ExecuteTime": {
     "end_time": "2025-02-12T18:05:32.026769Z",
     "start_time": "2025-02-12T18:05:32.005421Z"
    }
   },
   "cell_type": "code",
   "source": [
    "#13\n",
    "second_smallest = 0\n",
    "print(sorted(list(set(t)))[1])"
   ],
   "id": "9dddedd6e139b77c",
   "outputs": [
    {
     "name": "stdout",
     "output_type": "stream",
     "text": [
      "2\n"
     ]
    }
   ],
   "execution_count": 1700
  },
  {
   "metadata": {
    "ExecuteTime": {
     "end_time": "2025-02-12T18:05:32.081509Z",
     "start_time": "2025-02-12T18:05:32.058963Z"
    }
   },
   "cell_type": "code",
   "source": [
    "#14\n",
    "one_elemet_tuple = (1,)\n",
    "print(one_elemet_tuple)"
   ],
   "id": "3d16162ebb5caf4a",
   "outputs": [
    {
     "name": "stdout",
     "output_type": "stream",
     "text": [
      "(1,)\n"
     ]
    }
   ],
   "execution_count": 1701
  },
  {
   "metadata": {
    "ExecuteTime": {
     "end_time": "2025-02-12T18:05:32.115446Z",
     "start_time": "2025-02-12T18:05:32.104684Z"
    }
   },
   "cell_type": "code",
   "source": [
    "#15\n",
    "given_list = [1, 2, 3]\n",
    "result_tuple = tuple(given_list)\n",
    "print(result_tuple)"
   ],
   "id": "aa25817dea9b3136",
   "outputs": [
    {
     "name": "stdout",
     "output_type": "stream",
     "text": [
      "(1, 2, 3)\n"
     ]
    }
   ],
   "execution_count": 1702
  },
  {
   "metadata": {
    "ExecuteTime": {
     "end_time": "2025-02-12T18:05:32.198655Z",
     "start_time": "2025-02-12T18:05:32.176782Z"
    }
   },
   "cell_type": "code",
   "source": [
    "#16\n",
    "print(t == t[::-1])"
   ],
   "id": "b5dcb48398f5cf89",
   "outputs": [
    {
     "name": "stdout",
     "output_type": "stream",
     "text": [
      "False\n"
     ]
    }
   ],
   "execution_count": 1703
  },
  {
   "metadata": {
    "ExecuteTime": {
     "end_time": "2025-02-12T18:05:32.272309Z",
     "start_time": "2025-02-12T18:05:32.251022Z"
    }
   },
   "cell_type": "code",
   "source": [
    "#17\n",
    "starting_point = 1\n",
    "ending_point = 4\n",
    "print(max(t[starting_point:ending_point]))"
   ],
   "id": "cd0513926b8e0fcd",
   "outputs": [
    {
     "name": "stdout",
     "output_type": "stream",
     "text": [
      "3\n"
     ]
    }
   ],
   "execution_count": 1704
  },
  {
   "metadata": {
    "ExecuteTime": {
     "end_time": "2025-02-12T18:05:32.319864Z",
     "start_time": "2025-02-12T18:05:32.295461Z"
    }
   },
   "cell_type": "code",
   "source": [
    "#18\n",
    "print(min(t[starting_point:ending_point]))"
   ],
   "id": "3d0c32df1ad41537",
   "outputs": [
    {
     "name": "stdout",
     "output_type": "stream",
     "text": [
      "2\n"
     ]
    }
   ],
   "execution_count": 1705
  },
  {
   "metadata": {
    "ExecuteTime": {
     "end_time": "2025-02-12T18:05:32.382092Z",
     "start_time": "2025-02-12T18:05:32.351489Z"
    }
   },
   "cell_type": "code",
   "source": [
    "#19\n",
    "given_value = 2\n",
    "index_of_value = t.index(given_value)\n",
    "\n",
    "removed_tuple = []\n",
    "for i in range(len(t)):\n",
    "    if i != index_of_value:\n",
    "        removed_tuple.append(t[i])\n",
    "print(removed_tuple)"
   ],
   "id": "a3e156d9e03df48b",
   "outputs": [
    {
     "name": "stdout",
     "output_type": "stream",
     "text": [
      "[1, 2, 3, 4, 5]\n"
     ]
    }
   ],
   "execution_count": 1706
  },
  {
   "metadata": {
    "ExecuteTime": {
     "end_time": "2025-02-12T18:05:32.413365Z",
     "start_time": "2025-02-12T18:05:32.397730Z"
    }
   },
   "cell_type": "code",
   "source": [
    "#20\n",
    "starting_slice = 2\n",
    "ending_slice = 4\n",
    "nested_tuple = (t[starting_slice:ending_slice])\n",
    "print(nested_tuple)"
   ],
   "id": "2c04e68f7457aba7",
   "outputs": [
    {
     "name": "stdout",
     "output_type": "stream",
     "text": [
      "(2, 3)\n"
     ]
    }
   ],
   "execution_count": 1707
  },
  {
   "metadata": {
    "ExecuteTime": {
     "end_time": "2025-02-12T18:05:32.487080Z",
     "start_time": "2025-02-12T18:05:32.464846Z"
    }
   },
   "cell_type": "code",
   "source": [
    "#21\n",
    "number_times = 4\n",
    "time_tuple = (number_times * t)\n",
    "print(time_tuple)"
   ],
   "id": "4683db9288e7c36b",
   "outputs": [
    {
     "name": "stdout",
     "output_type": "stream",
     "text": [
      "(1, 2, 2, 3, 4, 5, 1, 2, 2, 3, 4, 5, 1, 2, 2, 3, 4, 5, 1, 2, 2, 3, 4, 5)\n"
     ]
    }
   ],
   "execution_count": 1708
  },
  {
   "metadata": {
    "ExecuteTime": {
     "end_time": "2025-02-12T18:05:32.549743Z",
     "start_time": "2025-02-12T18:05:32.526537Z"
    }
   },
   "cell_type": "code",
   "source": [
    "#22\n",
    "ranged_tuple = tuple(range(1, 10))\n",
    "print(ranged_tuple)"
   ],
   "id": "ff9c4532cb7cf7d3",
   "outputs": [
    {
     "name": "stdout",
     "output_type": "stream",
     "text": [
      "(1, 2, 3, 4, 5, 6, 7, 8, 9)\n"
     ]
    }
   ],
   "execution_count": 1709
  },
  {
   "metadata": {
    "ExecuteTime": {
     "end_time": "2025-02-12T18:05:32.654138Z",
     "start_time": "2025-02-12T18:05:32.638488Z"
    }
   },
   "cell_type": "code",
   "source": [
    "#23\n",
    "reversed_tuple = t[::-1]\n",
    "print(reversed_tuple)"
   ],
   "id": "c8ce21aead1a41b1",
   "outputs": [
    {
     "name": "stdout",
     "output_type": "stream",
     "text": [
      "(5, 4, 3, 2, 2, 1)\n"
     ]
    }
   ],
   "execution_count": 1710
  },
  {
   "metadata": {
    "ExecuteTime": {
     "end_time": "2025-02-12T18:05:32.701095Z",
     "start_time": "2025-02-12T18:05:32.685399Z"
    }
   },
   "cell_type": "code",
   "source": [
    "#24\n",
    "print(t == t[::-1])"
   ],
   "id": "61980eb26e2c8720",
   "outputs": [
    {
     "name": "stdout",
     "output_type": "stream",
     "text": [
      "False\n"
     ]
    }
   ],
   "execution_count": 1711
  },
  {
   "metadata": {
    "ExecuteTime": {
     "end_time": "2025-02-12T18:05:32.746482Z",
     "start_time": "2025-02-12T18:05:32.730857Z"
    }
   },
   "cell_type": "code",
   "source": [
    "#25\n",
    "unique_tuple = ()\n",
    "for number in t:\n",
    "    if number not in unique_tuple:\n",
    "        unique_tuple += (number,)\n",
    "print(unique_tuple)"
   ],
   "id": "681c48cb8bf9fcbe",
   "outputs": [
    {
     "name": "stdout",
     "output_type": "stream",
     "text": [
      "(1, 2, 3, 4, 5)\n"
     ]
    }
   ],
   "execution_count": 1712
  },
  {
   "metadata": {},
   "cell_type": "markdown",
   "source": "### SET",
   "id": "fcf99d1a8d38010d"
  },
  {
   "metadata": {
    "ExecuteTime": {
     "end_time": "2025-02-12T18:05:32.887733Z",
     "start_time": "2025-02-12T18:05:32.872226Z"
    }
   },
   "cell_type": "code",
   "source": [
    "#1\n",
    "first_set = {1, 2, 3, 6}\n",
    "second_set = {2, 3, 4, 5}\n",
    "combined_set = first_set | second_set\n",
    "print(combined_set)\n",
    "print(len(first_set))"
   ],
   "id": "7ae2a7906e0bfedc",
   "outputs": [
    {
     "name": "stdout",
     "output_type": "stream",
     "text": [
      "{1, 2, 3, 4, 5, 6}\n",
      "4\n"
     ]
    }
   ],
   "execution_count": 1713
  },
  {
   "metadata": {
    "ExecuteTime": {
     "end_time": "2025-02-12T18:05:32.978949Z",
     "start_time": "2025-02-12T18:05:32.957210Z"
    }
   },
   "cell_type": "code",
   "source": [
    "#2\n",
    "common_set = first_set & second_set\n",
    "print(common_set)"
   ],
   "id": "1e4c1b0be3aaa971",
   "outputs": [
    {
     "name": "stdout",
     "output_type": "stream",
     "text": [
      "{2, 3}\n"
     ]
    }
   ],
   "execution_count": 1714
  },
  {
   "metadata": {
    "ExecuteTime": {
     "end_time": "2025-02-12T18:05:33.049907Z",
     "start_time": "2025-02-12T18:05:33.025944Z"
    }
   },
   "cell_type": "code",
   "source": [
    "#3\n",
    "print(first_set.difference(second_set))"
   ],
   "id": "bce3d1ec2ad92a5e",
   "outputs": [
    {
     "name": "stdout",
     "output_type": "stream",
     "text": [
      "{1, 6}\n"
     ]
    }
   ],
   "execution_count": 1715
  },
  {
   "metadata": {
    "ExecuteTime": {
     "end_time": "2025-02-12T18:05:33.101653Z",
     "start_time": "2025-02-12T18:05:33.076842Z"
    }
   },
   "cell_type": "code",
   "source": [
    "#4\n",
    "print(second_set.issubset(first_set))"
   ],
   "id": "200240c4b7583a81",
   "outputs": [
    {
     "name": "stdout",
     "output_type": "stream",
     "text": [
      "False\n"
     ]
    }
   ],
   "execution_count": 1716
  },
  {
   "metadata": {
    "ExecuteTime": {
     "end_time": "2025-02-12T18:05:33.133223Z",
     "start_time": "2025-02-12T18:05:33.124310Z"
    }
   },
   "cell_type": "code",
   "source": [
    "#5\n",
    "set_element = 2\n",
    "print(set_element in first_set)"
   ],
   "id": "96586c2d565b9361",
   "outputs": [
    {
     "name": "stdout",
     "output_type": "stream",
     "text": [
      "True\n"
     ]
    }
   ],
   "execution_count": 1717
  },
  {
   "metadata": {
    "ExecuteTime": {
     "end_time": "2025-02-12T18:05:33.183128Z",
     "start_time": "2025-02-12T18:05:33.155058Z"
    }
   },
   "cell_type": "code",
   "source": [
    "#6\n",
    "print(len(first_set))"
   ],
   "id": "535614ff2249d1f7",
   "outputs": [
    {
     "name": "stdout",
     "output_type": "stream",
     "text": [
      "4\n"
     ]
    }
   ],
   "execution_count": 1718
  },
  {
   "metadata": {
    "ExecuteTime": {
     "end_time": "2025-02-12T18:05:33.223244Z",
     "start_time": "2025-02-12T18:05:33.207506Z"
    }
   },
   "cell_type": "code",
   "source": [
    "#7\n",
    "list_in_set = [1, 2, 2, 2, 3]\n",
    "set_of_list = set(list_in_set)\n",
    "print(set_of_list)"
   ],
   "id": "1b486dc2897617b9",
   "outputs": [
    {
     "name": "stdout",
     "output_type": "stream",
     "text": [
      "{1, 2, 3}\n"
     ]
    }
   ],
   "execution_count": 1719
  },
  {
   "metadata": {
    "ExecuteTime": {
     "end_time": "2025-02-12T18:05:33.275547Z",
     "start_time": "2025-02-12T18:05:33.259925Z"
    }
   },
   "cell_type": "code",
   "source": [
    "#8\n",
    "given_element_in_set = 2\n",
    "first_set.remove(given_element_in_set)\n",
    "print(first_set)"
   ],
   "id": "394494ef51b9e0f5",
   "outputs": [
    {
     "name": "stdout",
     "output_type": "stream",
     "text": [
      "{1, 3, 6}\n"
     ]
    }
   ],
   "execution_count": 1720
  },
  {
   "metadata": {
    "ExecuteTime": {
     "end_time": "2025-02-12T18:05:33.361523Z",
     "start_time": "2025-02-12T18:05:33.338687Z"
    }
   },
   "cell_type": "code",
   "source": [
    "#9\n",
    "empty_set = first_set.copy()\n",
    "empty_set.clear()\n",
    "print(empty_set)"
   ],
   "id": "160544a0c34e50a1",
   "outputs": [
    {
     "name": "stdout",
     "output_type": "stream",
     "text": [
      "set()\n"
     ]
    }
   ],
   "execution_count": 1721
  },
  {
   "metadata": {
    "ExecuteTime": {
     "end_time": "2025-02-12T18:05:33.440201Z",
     "start_time": "2025-02-12T18:05:33.415787Z"
    }
   },
   "cell_type": "code",
   "source": [
    "#10\n",
    "print(bool(empty_set))"
   ],
   "id": "ba68068b8b761ee3",
   "outputs": [
    {
     "name": "stdout",
     "output_type": "stream",
     "text": [
      "False\n"
     ]
    }
   ],
   "execution_count": 1722
  },
  {
   "metadata": {
    "ExecuteTime": {
     "end_time": "2025-02-12T18:05:33.499519Z",
     "start_time": "2025-02-12T18:05:33.471490Z"
    }
   },
   "cell_type": "code",
   "source": [
    "#11\n",
    "symmetric_set = first_set.symmetric_difference(second_set)\n",
    "print(symmetric_set)"
   ],
   "id": "b4e594e9882611ca",
   "outputs": [
    {
     "name": "stdout",
     "output_type": "stream",
     "text": [
      "{1, 2, 4, 5, 6}\n"
     ]
    }
   ],
   "execution_count": 1723
  },
  {
   "metadata": {
    "ExecuteTime": {
     "end_time": "2025-02-12T18:05:33.568452Z",
     "start_time": "2025-02-12T18:05:33.546394Z"
    }
   },
   "cell_type": "code",
   "source": [
    "#12\n",
    "add_element = 2\n",
    "if add_element not in first_set:\n",
    "    first_set.add(add_element)\n",
    "print(first_set)"
   ],
   "id": "bd9164f0ea377e0d",
   "outputs": [
    {
     "name": "stdout",
     "output_type": "stream",
     "text": [
      "{1, 2, 3, 6}\n"
     ]
    }
   ],
   "execution_count": 1724
  },
  {
   "metadata": {
    "ExecuteTime": {
     "end_time": "2025-02-12T18:05:33.659117Z",
     "start_time": "2025-02-12T18:05:33.635872Z"
    }
   },
   "cell_type": "code",
   "source": [
    "#13\n",
    "last_element_of_set = first_set.pop()\n",
    "print(first_set)\n",
    "print(f\"{last_element_of_set = }\")"
   ],
   "id": "988f44ef08868f24",
   "outputs": [
    {
     "name": "stdout",
     "output_type": "stream",
     "text": [
      "{2, 3, 6}\n",
      "last_element_of_set = 1\n"
     ]
    }
   ],
   "execution_count": 1725
  },
  {
   "metadata": {
    "ExecuteTime": {
     "end_time": "2025-02-12T18:05:33.699027Z",
     "start_time": "2025-02-12T18:05:33.690378Z"
    }
   },
   "cell_type": "code",
   "source": [
    "#14\n",
    "print(max(first_set))"
   ],
   "id": "923f61b22718fa6a",
   "outputs": [
    {
     "name": "stdout",
     "output_type": "stream",
     "text": [
      "6\n"
     ]
    }
   ],
   "execution_count": 1726
  },
  {
   "metadata": {
    "ExecuteTime": {
     "end_time": "2025-02-12T18:05:33.766021Z",
     "start_time": "2025-02-12T18:05:33.735159Z"
    }
   },
   "cell_type": "code",
   "source": [
    "#15\n",
    "print(min(first_set))"
   ],
   "id": "5da32d8a591aa438",
   "outputs": [
    {
     "name": "stdout",
     "output_type": "stream",
     "text": [
      "2\n"
     ]
    }
   ],
   "execution_count": 1727
  },
  {
   "metadata": {
    "ExecuteTime": {
     "end_time": "2025-02-12T18:05:33.821649Z",
     "start_time": "2025-02-12T18:05:33.797569Z"
    }
   },
   "cell_type": "code",
   "source": [
    "#16\n",
    "even_set = set()\n",
    "for number in first_set:\n",
    "   if number % 2 == 0:\n",
    "       even_set.add(number)\n",
    "print(even_set)"
   ],
   "id": "d249694022cce18",
   "outputs": [
    {
     "name": "stdout",
     "output_type": "stream",
     "text": [
      "{2, 6}\n"
     ]
    }
   ],
   "execution_count": 1728
  },
  {
   "metadata": {
    "ExecuteTime": {
     "end_time": "2025-02-12T18:05:33.881112Z",
     "start_time": "2025-02-12T18:05:33.857877Z"
    }
   },
   "cell_type": "code",
   "source": [
    "#17\n",
    "odd_set = set()\n",
    "for number in first_set:\n",
    "    if number % 2 == 1:\n",
    "        odd_set.add(number)\n",
    "print(odd_set)"
   ],
   "id": "313d38a95c952c48",
   "outputs": [
    {
     "name": "stdout",
     "output_type": "stream",
     "text": [
      "{3}\n"
     ]
    }
   ],
   "execution_count": 1729
  },
  {
   "metadata": {
    "ExecuteTime": {
     "end_time": "2025-02-12T18:05:33.958120Z",
     "start_time": "2025-02-12T18:05:33.935795Z"
    }
   },
   "cell_type": "code",
   "source": [
    "#18\n",
    "ranged_set = set(range(1, 10))\n",
    "print(ranged_set)"
   ],
   "id": "70db96089e14cf9d",
   "outputs": [
    {
     "name": "stdout",
     "output_type": "stream",
     "text": [
      "{1, 2, 3, 4, 5, 6, 7, 8, 9}\n"
     ]
    }
   ],
   "execution_count": 1730
  },
  {
   "metadata": {
    "ExecuteTime": {
     "end_time": "2025-02-12T18:05:34.118135Z",
     "start_time": "2025-02-12T18:05:34.092069Z"
    }
   },
   "cell_type": "code",
   "source": [
    "#19\n",
    "first_list = [1, 2, 2, 3, 4]\n",
    "second_list = [1, 2, 3, 3]\n",
    "merged_set = set(set(first_list) | set(second_list))\n",
    "print(merged_set)"
   ],
   "id": "8abf251c8b9fe80",
   "outputs": [
    {
     "name": "stdout",
     "output_type": "stream",
     "text": [
      "{1, 2, 3, 4}\n"
     ]
    }
   ],
   "execution_count": 1731
  },
  {
   "metadata": {
    "ExecuteTime": {
     "end_time": "2025-02-12T18:05:34.169768Z",
     "start_time": "2025-02-12T18:05:34.138488Z"
    }
   },
   "cell_type": "code",
   "source": [
    "#20\n",
    "have_common = False\n",
    "for number in first_set:\n",
    "    if number in second_set:\n",
    "        if number == number:\n",
    "            have_common = True\n",
    "print(have_common)"
   ],
   "id": "dc156d9538f7915b",
   "outputs": [
    {
     "name": "stdout",
     "output_type": "stream",
     "text": [
      "True\n"
     ]
    }
   ],
   "execution_count": 1732
  },
  {
   "metadata": {
    "ExecuteTime": {
     "end_time": "2025-02-12T18:05:34.223965Z",
     "start_time": "2025-02-12T18:05:34.201363Z"
    }
   },
   "cell_type": "code",
   "source": [
    "#21\n",
    "first_list = set(first_list)\n",
    "print(first_list)"
   ],
   "id": "b944f960119744b2",
   "outputs": [
    {
     "name": "stdout",
     "output_type": "stream",
     "text": [
      "{1, 2, 3, 4}\n"
     ]
    }
   ],
   "execution_count": 1733
  },
  {
   "metadata": {
    "ExecuteTime": {
     "end_time": "2025-02-12T18:05:34.293839Z",
     "start_time": "2025-02-12T18:05:34.278218Z"
    }
   },
   "cell_type": "code",
   "source": [
    "#22\n",
    "print(len(set(second_list)))"
   ],
   "id": "b5bbbd5cf11ceb1e",
   "outputs": [
    {
     "name": "stdout",
     "output_type": "stream",
     "text": [
      "3\n"
     ]
    }
   ],
   "execution_count": 1734
  },
  {
   "metadata": {
    "ExecuteTime": {
     "end_time": "2025-02-12T18:05:34.371942Z",
     "start_time": "2025-02-12T18:05:34.356320Z"
    }
   },
   "cell_type": "code",
   "source": [
    "#23\n",
    "import random\n",
    "random_set = set()\n",
    "number_of_elements = 5\n",
    "starting_from = 1\n",
    "ending_at = 10\n",
    "for i in range(number_of_elements):\n",
    "    random_set.add(random.randint(starting_from, ending_at))\n",
    "print(random_set)"
   ],
   "id": "fa49f5fa2e77fc3d",
   "outputs": [
    {
     "name": "stdout",
     "output_type": "stream",
     "text": [
      "{1, 4, 6}\n"
     ]
    }
   ],
   "execution_count": 1735
  },
  {
   "metadata": {},
   "cell_type": "markdown",
   "source": "### DICTIONARY",
   "id": "aaa8d14a8979bc6b"
  },
  {
   "metadata": {
    "ExecuteTime": {
     "end_time": "2025-02-12T18:05:34.465760Z",
     "start_time": "2025-02-12T18:05:34.434452Z"
    }
   },
   "cell_type": "code",
   "source": [
    "#1\n",
    "my_dictionary = {\n",
    "    'name' : 'John',\n",
    "    'age' : 42,\n",
    "    'job' : 'software engineer'\n",
    "}\n",
    "key = 'name'\n",
    "if key in my_dictionary:\n",
    " print(my_dictionary[key])\n",
    "else:\n",
    "    print(my_dictionary)"
   ],
   "id": "22f4223fdb589bf2",
   "outputs": [
    {
     "name": "stdout",
     "output_type": "stream",
     "text": [
      "John\n"
     ]
    }
   ],
   "execution_count": 1736
  },
  {
   "metadata": {
    "ExecuteTime": {
     "end_time": "2025-02-12T18:05:34.553984Z",
     "start_time": "2025-02-12T18:05:34.538352Z"
    }
   },
   "cell_type": "code",
   "source": [
    "#2\n",
    "print(key in my_dictionary)"
   ],
   "id": "89c5f13c41900166",
   "outputs": [
    {
     "name": "stdout",
     "output_type": "stream",
     "text": [
      "True\n"
     ]
    }
   ],
   "execution_count": 1737
  },
  {
   "metadata": {
    "ExecuteTime": {
     "end_time": "2025-02-12T18:05:34.641984Z",
     "start_time": "2025-02-12T18:05:34.613022Z"
    }
   },
   "cell_type": "code",
   "source": [
    "#3\n",
    "print(len(my_dictionary.keys()))"
   ],
   "id": "209f563940be1705",
   "outputs": [
    {
     "name": "stdout",
     "output_type": "stream",
     "text": [
      "3\n"
     ]
    }
   ],
   "execution_count": 1738
  },
  {
   "metadata": {
    "ExecuteTime": {
     "end_time": "2025-02-12T18:05:34.758689Z",
     "start_time": "2025-02-12T18:05:34.743061Z"
    }
   },
   "cell_type": "code",
   "source": [
    "#4\n",
    "keys_list = list(my_dictionary.keys())\n",
    "print(keys_list)"
   ],
   "id": "bcafa12e3953178b",
   "outputs": [
    {
     "name": "stdout",
     "output_type": "stream",
     "text": [
      "['name', 'age', 'job']\n"
     ]
    }
   ],
   "execution_count": 1739
  },
  {
   "metadata": {
    "ExecuteTime": {
     "end_time": "2025-02-12T18:05:34.917875Z",
     "start_time": "2025-02-12T18:05:34.889791Z"
    }
   },
   "cell_type": "code",
   "source": [
    "#5\n",
    "values_list = list(my_dictionary.values())\n",
    "print(values_list)"
   ],
   "id": "4e2f6d20eaf5fd18",
   "outputs": [
    {
     "name": "stdout",
     "output_type": "stream",
     "text": [
      "['John', 42, 'software engineer']\n"
     ]
    }
   ],
   "execution_count": 1740
  },
  {
   "metadata": {
    "ExecuteTime": {
     "end_time": "2025-02-12T18:05:35.016558Z",
     "start_time": "2025-02-12T18:05:34.988172Z"
    }
   },
   "cell_type": "code",
   "source": [
    "#6\n",
    "my_second_dictionary = {\n",
    "    'gender' : 'male'\n",
    "}\n",
    "my_second_dictionary.update(my_dictionary)\n",
    "print(my_second_dictionary)"
   ],
   "id": "13dea9a9054ebd1c",
   "outputs": [
    {
     "name": "stdout",
     "output_type": "stream",
     "text": [
      "{'gender': 'male', 'name': 'John', 'age': 42, 'job': 'software engineer'}\n"
     ]
    }
   ],
   "execution_count": 1741
  },
  {
   "metadata": {
    "ExecuteTime": {
     "end_time": "2025-02-12T18:05:35.094681Z",
     "start_time": "2025-02-12T18:05:35.079062Z"
    }
   },
   "cell_type": "code",
   "source": [
    "#7\n",
    "remove_key = 'gender'\n",
    "if remove_key in my_second_dictionary:\n",
    "    my_second_dictionary.pop(remove_key)\n",
    "print(my_second_dictionary)"
   ],
   "id": "3dba4dbaf1d253a1",
   "outputs": [
    {
     "name": "stdout",
     "output_type": "stream",
     "text": [
      "{'name': 'John', 'age': 42, 'job': 'software engineer'}\n"
     ]
    }
   ],
   "execution_count": 1742
  },
  {
   "metadata": {
    "ExecuteTime": {
     "end_time": "2025-02-12T18:05:35.156041Z",
     "start_time": "2025-02-12T18:05:35.141554Z"
    }
   },
   "cell_type": "code",
   "source": [
    "#8\n",
    "my_second_dictionary.clear()\n",
    "print(my_second_dictionary)"
   ],
   "id": "ce7eac4ad42c97d1",
   "outputs": [
    {
     "name": "stdout",
     "output_type": "stream",
     "text": [
      "{}\n"
     ]
    }
   ],
   "execution_count": 1743
  },
  {
   "metadata": {
    "ExecuteTime": {
     "end_time": "2025-02-12T18:05:35.215995Z",
     "start_time": "2025-02-12T18:05:35.198508Z"
    }
   },
   "cell_type": "code",
   "source": [
    "#9\n",
    "print(bool(my_second_dictionary))"
   ],
   "id": "18804e571e1e16e3",
   "outputs": [
    {
     "name": "stdout",
     "output_type": "stream",
     "text": [
      "False\n"
     ]
    }
   ],
   "execution_count": 1744
  },
  {
   "metadata": {
    "ExecuteTime": {
     "end_time": "2025-02-12T18:05:35.268305Z",
     "start_time": "2025-02-12T18:05:35.252672Z"
    }
   },
   "cell_type": "code",
   "source": [
    "#10\n",
    "if key in my_dictionary:\n",
    "    print(f\"value = {my_dictionary[key]}, key = {key}\")"
   ],
   "id": "3f03f7f7eaf106f3",
   "outputs": [
    {
     "name": "stdout",
     "output_type": "stream",
     "text": [
      "value = John, key = name\n"
     ]
    }
   ],
   "execution_count": 1745
  },
  {
   "metadata": {
    "ExecuteTime": {
     "end_time": "2025-02-12T18:05:35.344880Z",
     "start_time": "2025-02-12T18:05:35.311185Z"
    }
   },
   "cell_type": "code",
   "source": [
    "#11\n",
    "key_to_update = 'age'\n",
    "to_update = 44\n",
    "if key_to_update in my_dictionary:\n",
    "    my_dictionary.update({key_to_update : to_update})\n",
    "    print(my_dictionary)"
   ],
   "id": "3f694900c20dafa2",
   "outputs": [
    {
     "name": "stdout",
     "output_type": "stream",
     "text": [
      "{'name': 'John', 'age': 44, 'job': 'software engineer'}\n"
     ]
    }
   ],
   "execution_count": 1746
  },
  {
   "metadata": {
    "ExecuteTime": {
     "end_time": "2025-02-12T18:05:35.383218Z",
     "start_time": "2025-02-12T18:05:35.365880Z"
    }
   },
   "cell_type": "code",
   "source": [
    "#12\n",
    "value_to_count = 'John'\n",
    "counter = list(my_dictionary.values()).count(value_to_count)\n",
    "print(counter)"
   ],
   "id": "416d9e9161f31b62",
   "outputs": [
    {
     "name": "stdout",
     "output_type": "stream",
     "text": [
      "1\n"
     ]
    }
   ],
   "execution_count": 1747
  },
  {
   "metadata": {
    "ExecuteTime": {
     "end_time": "2025-02-12T18:05:35.461455Z",
     "start_time": "2025-02-12T18:05:35.445907Z"
    }
   },
   "cell_type": "code",
   "source": [
    "#13\n",
    "new_dictionary = my_dictionary.copy()\n",
    "print(new_dictionary)"
   ],
   "id": "64499a073d12d6c9",
   "outputs": [
    {
     "name": "stdout",
     "output_type": "stream",
     "text": [
      "{'name': 'John', 'age': 44, 'job': 'software engineer'}\n"
     ]
    }
   ],
   "execution_count": 1748
  },
  {
   "metadata": {
    "ExecuteTime": {
     "end_time": "2025-02-12T18:05:35.524126Z",
     "start_time": "2025-02-12T18:05:35.492803Z"
    }
   },
   "cell_type": "code",
   "source": [
    "#14\n",
    "inverted_dictionary = {}\n",
    "for key, value in my_dictionary.items():\n",
    "    inverted_dictionary[value] = key\n",
    "print(inverted_dictionary)"
   ],
   "id": "4b360e02bc9b8128",
   "outputs": [
    {
     "name": "stdout",
     "output_type": "stream",
     "text": [
      "{'John': 'name', 44: 'age', 'software engineer': 'job'}\n"
     ]
    }
   ],
   "execution_count": 1749
  },
  {
   "metadata": {
    "ExecuteTime": {
     "end_time": "2025-02-12T18:05:35.573135Z",
     "start_time": "2025-02-12T18:05:35.539766Z"
    }
   },
   "cell_type": "code",
   "source": [
    "#15\n",
    "keys = ['gender', 'job']\n",
    "values = ['male', 'driver']\n",
    "created_dictionary = {}\n",
    "for i in range(len(keys)):\n",
    "    created_dictionary[keys[i]] = values[i]\n",
    "print(created_dictionary)"
   ],
   "id": "8846450313ac2c04",
   "outputs": [
    {
     "name": "stdout",
     "output_type": "stream",
     "text": [
      "{'gender': 'male', 'job': 'driver'}\n"
     ]
    }
   ],
   "execution_count": 1750
  },
  {
   "metadata": {
    "ExecuteTime": {
     "end_time": "2025-02-12T18:05:35.663367Z",
     "start_time": "2025-02-12T18:05:35.643072Z"
    }
   },
   "cell_type": "code",
   "source": [
    "#16\n",
    "nested_dict = False\n",
    "for key, value in my_dictionary.items():\n",
    "    if isinstance(value, dict):\n",
    "        nested_dict = True\n",
    "        break\n",
    "    elif isinstance(key, list):\n",
    "        nested_dict = True\n",
    "        break\n",
    "print(nested_dict)"
   ],
   "id": "a5a00e03e1e0bed6",
   "outputs": [
    {
     "name": "stdout",
     "output_type": "stream",
     "text": [
      "False\n"
     ]
    }
   ],
   "execution_count": 1751
  },
  {
   "metadata": {
    "ExecuteTime": {
     "end_time": "2025-02-12T18:05:35.736658Z",
     "start_time": "2025-02-12T18:05:35.717394Z"
    }
   },
   "cell_type": "code",
   "source": [
    "#17\n",
    "nested_dictionary = {\n",
    "    'first_person' : {'name' : 'Rock', 'age' : 30},\n",
    "    'second_person' : {'name' : 'Alice', 'age' : 20},\n",
    "}\n",
    "print(nested_dictionary['first_person'])"
   ],
   "id": "778aada3d4557b8b",
   "outputs": [
    {
     "name": "stdout",
     "output_type": "stream",
     "text": [
      "{'name': 'Rock', 'age': 30}\n"
     ]
    }
   ],
   "execution_count": 1752
  },
  {
   "metadata": {
    "ExecuteTime": {
     "end_time": "2025-02-12T18:05:35.795267Z",
     "start_time": "2025-02-12T18:05:35.775033Z"
    }
   },
   "cell_type": "code",
   "source": [
    "#18\n",
    "print(my_dictionary.get('first_person'))"
   ],
   "id": "362e44352e2972e0",
   "outputs": [
    {
     "name": "stdout",
     "output_type": "stream",
     "text": [
      "None\n"
     ]
    }
   ],
   "execution_count": 1753
  },
  {
   "metadata": {
    "ExecuteTime": {
     "end_time": "2025-02-12T18:05:35.855453Z",
     "start_time": "2025-02-12T18:05:35.831294Z"
    }
   },
   "cell_type": "code",
   "source": [
    "#19\n",
    "print(len(my_dictionary.values()))"
   ],
   "id": "150c8e102f907cba",
   "outputs": [
    {
     "name": "stdout",
     "output_type": "stream",
     "text": [
      "3\n"
     ]
    }
   ],
   "execution_count": 1754
  },
  {
   "metadata": {
    "ExecuteTime": {
     "end_time": "2025-02-12T18:05:35.907986Z",
     "start_time": "2025-02-12T18:05:35.880765Z"
    }
   },
   "cell_type": "code",
   "source": [
    "#20\n",
    "sorted_by_keys = dict(sorted(my_dictionary.items()))\n",
    "print(sorted_by_keys)"
   ],
   "id": "c9384ac8accee6b3",
   "outputs": [
    {
     "name": "stdout",
     "output_type": "stream",
     "text": [
      "{'age': 44, 'job': 'software engineer', 'name': 'John'}\n"
     ]
    }
   ],
   "execution_count": 1755
  },
  {
   "metadata": {
    "ExecuteTime": {
     "end_time": "2025-02-12T18:05:35.942419Z",
     "start_time": "2025-02-12T18:05:35.926679Z"
    }
   },
   "cell_type": "code",
   "source": [
    "#21\n",
    "my_new_dictionary = {'a' : 3, 'b' : 2, 'c' : 1}\n",
    "sorted_by_values = dict(sorted(my_new_dictionary.items(), key=lambda item: item[1]))\n",
    "print(sorted_by_values)"
   ],
   "id": "2f5956551b038e8b",
   "outputs": [
    {
     "name": "stdout",
     "output_type": "stream",
     "text": [
      "{'c': 1, 'b': 2, 'a': 3}\n"
     ]
    }
   ],
   "execution_count": 1756
  },
  {
   "metadata": {
    "ExecuteTime": {
     "end_time": "2025-02-12T18:05:36.006640Z",
     "start_time": "2025-02-12T18:05:35.981894Z"
    }
   },
   "cell_type": "code",
   "source": [
    "#22\n",
    "created_by_value = {}\n",
    "for key, value in my_new_dictionary.items():\n",
    "    if type(value) == type(5):\n",
    "      created_by_value[key] = value\n",
    "print(created_by_value)"
   ],
   "id": "8f4002c19b64ac6e",
   "outputs": [
    {
     "name": "stdout",
     "output_type": "stream",
     "text": [
      "{'a': 3, 'b': 2, 'c': 1}\n"
     ]
    }
   ],
   "execution_count": 1757
  },
  {
   "metadata": {
    "ExecuteTime": {
     "end_time": "2025-02-12T18:05:36.058100Z",
     "start_time": "2025-02-12T18:05:36.037910Z"
    }
   },
   "cell_type": "code",
   "source": [
    "#23\n",
    "common_keys_dictionary = set(my_dictionary) & set(my_new_dictionary)\n",
    "print(dict(common_keys_dictionary))"
   ],
   "id": "137549320a1ad826",
   "outputs": [
    {
     "name": "stdout",
     "output_type": "stream",
     "text": [
      "{}\n"
     ]
    }
   ],
   "execution_count": 1758
  },
  {
   "metadata": {
    "ExecuteTime": {
     "end_time": "2025-02-12T18:05:36.102393Z",
     "start_time": "2025-02-12T18:05:36.082385Z"
    }
   },
   "cell_type": "code",
   "source": [
    "#24\n",
    "my_tuple = (('name', 'Rice'), ('name2' , 'John'))\n",
    "created_dict = dict(my_tuple)\n",
    "print(created_dict)\n"
   ],
   "id": "2ecd93e37aadacdd",
   "outputs": [
    {
     "name": "stdout",
     "output_type": "stream",
     "text": [
      "{'name': 'Rice', 'name2': 'John'}\n"
     ]
    }
   ],
   "execution_count": 1759
  },
  {
   "metadata": {
    "ExecuteTime": {
     "end_time": "2025-02-12T18:05:36.258091Z",
     "start_time": "2025-02-12T18:05:36.235607Z"
    }
   },
   "cell_type": "code",
   "source": [
    "#25\n",
    "print(list(my_dictionary.items())[0])"
   ],
   "id": "2dafd6da1de3b16e",
   "outputs": [
    {
     "name": "stdout",
     "output_type": "stream",
     "text": [
      "('name', 'John')\n"
     ]
    }
   ],
   "execution_count": 1760
  }
 ],
 "metadata": {
  "kernelspec": {
   "display_name": "Python 3",
   "language": "python",
   "name": "python3"
  },
  "language_info": {
   "codemirror_mode": {
    "name": "ipython",
    "version": 2
   },
   "file_extension": ".py",
   "mimetype": "text/x-python",
   "name": "python",
   "nbconvert_exporter": "python",
   "pygments_lexer": "ipython2",
   "version": "2.7.6"
  }
 },
 "nbformat": 4,
 "nbformat_minor": 5
}
