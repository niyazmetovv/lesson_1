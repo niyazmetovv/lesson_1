{
 "cells": [
  {
   "metadata": {},
   "cell_type": "markdown",
   "source": [
    "### Questions\n",
    "- 1. continue is used only to skip one condition, while break is used to stop the whole loop\n",
    "- 2. while loop is mostly used when we do not know the condition beforehand, and for is used when we want to use loop for known times.\n",
    "- 3. for loop inside for loop.\n",
    "  ```\n",
    "   for i in range(10):\n",
    "    for j in range(10):\n",
    "      print(i + j)\n",
    "     ```\n"
   ],
   "id": "d3acc0826fdebc14"
  },
  {
   "metadata": {
    "ExecuteTime": {
     "end_time": "2025-02-14T11:07:44.126087Z",
     "start_time": "2025-02-14T11:07:44.079343Z"
    }
   },
   "cell_type": "code",
   "source": [
    "#1\n",
    "from collections import Counter\n",
    "\n",
    "list1 = [1, 1, 2, 3, 4, 2]\n",
    "list2 = [1, 3, 4, 5]\n",
    "\n",
    "list3 = []\n",
    "\n",
    "counter1 = Counter(list1)\n",
    "counter2 = Counter(list2)\n",
    "\n",
    "for number in counter1:\n",
    "    if number not in counter2:\n",
    "        list3.extend([number] * counter1[number])\n",
    "for number in counter2:\n",
    "    if number not in counter1:\n",
    "        list3.extend([number] * counter2[number])\n",
    "\n",
    "\n",
    "print(list3)"
   ],
   "id": "590e965e6580933e",
   "outputs": [
    {
     "name": "stdout",
     "output_type": "stream",
     "text": [
      "Counter({1: 2, 2: 2, 3: 1, 4: 1})\n",
      "[2, 2, 5]\n"
     ]
    }
   ],
   "execution_count": 17
  },
  {
   "metadata": {
    "ExecuteTime": {
     "end_time": "2025-02-14T11:11:56.228405Z",
     "start_time": "2025-02-14T11:11:53.088023Z"
    }
   },
   "cell_type": "code",
   "source": [
    "#2\n",
    "\n",
    "n = int(input('n = '))\n",
    "squares = []\n",
    "for i in range(1 , n):\n",
    "     squares.append(i ** 2)\n",
    "print(squares)"
   ],
   "id": "59e29e1211cf2561",
   "outputs": [
    {
     "name": "stdout",
     "output_type": "stream",
     "text": [
      "[1, 4, 9, 16]\n"
     ]
    }
   ],
   "execution_count": 21
  },
  {
   "metadata": {
    "ExecuteTime": {
     "end_time": "2025-02-14T14:21:19.554889Z",
     "start_time": "2025-02-14T14:21:19.543788Z"
    }
   },
   "cell_type": "code",
   "source": [
    "#3\n",
    "\n",
    "done_before = []\n",
    "counter = 0\n",
    "\n",
    "def check(char):\n",
    "    vowels = [\"a\", \"e\", \"i\", \"o\", \"u\", \"A\", \"E\", \"I\", \"O\", \"U\"]\n",
    "    if (counter % 3 == 0) and counter != 0:\n",
    "     if (char not in vowels) and (char not in done_before):\n",
    "         done_before.append(char)\n",
    "         return True\n",
    "     return False\n",
    "    return False\n",
    "\n",
    "txt = \"abcabcdabcdeabcdefabcdefg\"\n",
    "new_txt = \"\"\n",
    "\n",
    "for char1 in txt:\n",
    " counter += 1\n",
    " new_txt += char1\n",
    " if char1 != txt[len(txt)-1]:\n",
    "     if check(char1):\n",
    "        new_txt += '_'\n",
    "     elif (counter % 3 == 0):\n",
    "        counter -= 1\n",
    "\n",
    "print(new_txt)"
   ],
   "id": "8ebc1af6740d035b",
   "outputs": [
    {
     "name": "stdout",
     "output_type": "stream",
     "text": [
      "abc_abcd_abcdeab_cdef_abcdefg\n"
     ]
    }
   ],
   "execution_count": 35
  },
  {
   "metadata": {
    "ExecuteTime": {
     "end_time": "2025-02-14T14:44:13.507585Z",
     "start_time": "2025-02-14T14:43:36.354865Z"
    }
   },
   "cell_type": "code",
   "source": [
    "#4\n",
    "from random import randint\n",
    "random_number = randint(1, 100)\n",
    "def check_number():\n",
    "   i = 10\n",
    "   while i > 0:\n",
    "    inputted_number = int(input('number = '))\n",
    "    if inputted_number == random_number:\n",
    "        print('Correct!')\n",
    "        break\n",
    "    elif inputted_number > random_number:\n",
    "      print('Too high!')\n",
    "    else:\n",
    "      print('Too low!')\n",
    "    i -= 1\n",
    "\n",
    "while True:\n",
    "    check_number()\n",
    "    b = input('Do you want to play again? ').lower()\n",
    "    if b not in ('y', 'yes', 'yeah', 'yep'):\n",
    "        break"
   ],
   "id": "2bf7504bd4fd658a",
   "outputs": [
    {
     "name": "stdout",
     "output_type": "stream",
     "text": [
      "Too high!\n",
      "Too high!\n",
      "Too high!\n",
      "Too low!\n",
      "Too high!\n",
      "Too high!\n",
      "Too low!\n",
      "Too low!\n",
      "Too low!\n",
      "Too low!\n"
     ]
    }
   ],
   "execution_count": 39
  },
  {
   "metadata": {
    "ExecuteTime": {
     "end_time": "2025-02-14T17:03:37.049608Z",
     "start_time": "2025-02-14T17:03:29.740568Z"
    }
   },
   "cell_type": "code",
   "source": [
    "#5\n",
    "password = input('Password: ')\n",
    "if len(password) < 8:\n",
    "    print('Sorry, password is too short.')\n",
    "elif not any(char.isupper() for char in password):\n",
    "    print(\"Password must contain an uppercase letter.\")\n",
    "else:\n",
    "    print(\"Password is strong.\")\n"
   ],
   "id": "ce59571ee5a5e53e",
   "outputs": [
    {
     "name": "stdout",
     "output_type": "stream",
     "text": [
      "Password is strong.\n"
     ]
    }
   ],
   "execution_count": 9
  },
  {
   "metadata": {
    "ExecuteTime": {
     "end_time": "2025-02-14T17:12:19.924900Z",
     "start_time": "2025-02-14T17:12:19.909276Z"
    }
   },
   "cell_type": "code",
   "source": [
    "#6\n",
    "for i in range(2 , 101):\n",
    "    for j in range(2, i):\n",
    "        if i % j == 0:\n",
    "            break\n",
    "    else:\n",
    "            print(i)"
   ],
   "id": "3405c0b52db2a9d3",
   "outputs": [
    {
     "name": "stdout",
     "output_type": "stream",
     "text": [
      "2\n",
      "3\n",
      "5\n",
      "7\n",
      "11\n",
      "13\n",
      "17\n",
      "19\n",
      "23\n",
      "29\n",
      "31\n",
      "37\n",
      "41\n",
      "43\n",
      "47\n",
      "53\n",
      "59\n",
      "61\n",
      "67\n",
      "71\n",
      "73\n",
      "79\n",
      "83\n",
      "89\n",
      "97\n"
     ]
    }
   ],
   "execution_count": 18
  },
  {
   "metadata": {
    "ExecuteTime": {
     "end_time": "2025-02-14T17:26:17.956044Z",
     "start_time": "2025-02-14T17:26:02.657908Z"
    }
   },
   "cell_type": "code",
   "source": [
    "#Bonus Challenge\n",
    "from random import choice\n",
    "\n",
    "scores_of_player = 0\n",
    "scores_of_computer = 0\n",
    "\n",
    "while scores_of_player < 5 and scores_of_computer < 5:\n",
    " bot_choice = choice([\"rock\", \"paper\", \"scissors\"])\n",
    " player_choice = input(\"Rock, Paper, Scissors?\").lower()\n",
    " if bot_choice == \"rock\" and player_choice == \"paper\":\n",
    "        print(\"You win!\")\n",
    "        scores_of_player += 1\n",
    " elif player_choice == \"scissors\" and player_choice == \"paper\":\n",
    "        print(\"You win!\")\n",
    "        scores_of_player += 1\n",
    " elif player_choice == \"paper\" and player_choice == \"rock\":\n",
    "        print(\"You win!\")\n",
    "        scores_of_player += 1\n",
    " else:\n",
    "     print(\"You lose!\")\n",
    "     scores_of_computer += 1\n",
    "\n",
    "print(\"winner is\", \"Player\" if scores_of_player > scores_of_computer else \"Computer\" )\n",
    "\n",
    "\n"
   ],
   "id": "e2bac2bf59756fd9",
   "outputs": [
    {
     "name": "stdout",
     "output_type": "stream",
     "text": [
      "You lose!\n",
      "You lose!\n",
      "You lose!\n",
      "You lose!\n",
      "You lose!\n",
      "winner is  Computer\n"
     ]
    }
   ],
   "execution_count": 27
  }
 ],
 "metadata": {
  "kernelspec": {
   "display_name": "Python 3",
   "language": "python",
   "name": "python3"
  },
  "language_info": {
   "codemirror_mode": {
    "name": "ipython",
    "version": 2
   },
   "file_extension": ".py",
   "mimetype": "text/x-python",
   "name": "python",
   "nbconvert_exporter": "python",
   "pygments_lexer": "ipython2",
   "version": "2.7.6"
  }
 },
 "nbformat": 4,
 "nbformat_minor": 5
}
